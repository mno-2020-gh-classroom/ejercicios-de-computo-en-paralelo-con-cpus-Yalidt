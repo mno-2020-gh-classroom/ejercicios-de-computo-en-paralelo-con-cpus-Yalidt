{
 "cells": [
  {
   "cell_type": "markdown",
   "metadata": {},
   "source": [
    "\n",
    "De forma sencilla se puede ver que la regla compuesta de Simpson compuesta $S_c(f)$ se escribe como:\n",
    "\n",
    "$$S_c(f) = \\displaystyle \\frac{h}{3n} \\left [ f(x_0) + f(x_n) + 2 \\sum_{i=1}^{\\frac{n}{2}-1}f(x_{2i}) + 4 \\sum_{i=1}^{\\frac{n}{2}}f(x_{2i-1})\\right ] $$\n",
    "con $h=b-a$ y $n$ número de subintervalos (par).\n",
    "\n",
    "Nota: Los nodos para el caso de Simpson se obtienen con la fórmula: $x_i = a +\\frac{i}{2}\\hat{h}, \\forall i=0,\\dots,2n, \\hat{h}=\\frac{h}{n}$."
   ]
  },
  {
   "cell_type": "markdown",
   "metadata": {},
   "source": [
    "Lo siguiente sirve de ayuda. Consideramos un caso de $n=6$ subintervalos. Estos índices se multiplican por 4 y son los índices que el subproceso 0 trabajará:"
   ]
  },
  {
   "cell_type": "code",
   "execution_count": 1,
   "metadata": {},
   "outputs": [],
   "source": [
    "begin=1\n",
    "end=6"
   ]
  },
  {
   "cell_type": "code",
   "execution_count": 2,
   "metadata": {},
   "outputs": [
    {
     "name": "stdout",
     "output_type": "stream",
     "text": [
      "1\n",
      "3\n",
      "5\n"
     ]
    }
   ],
   "source": [
    "for i in range(begin,end+1,2):\n",
    "    print(i)"
   ]
  },
  {
   "cell_type": "markdown",
   "metadata": {},
   "source": [
    "Estos son los siguientes índices que se multiplican por 2 y son los índices que el subproceso 0 trabajará:"
   ]
  },
  {
   "cell_type": "code",
   "execution_count": 3,
   "metadata": {},
   "outputs": [
    {
     "name": "stdout",
     "output_type": "stream",
     "text": [
      "2\n",
      "4\n",
      "6\n"
     ]
    }
   ],
   "source": [
    "for i in range(begin+1,end+1,2):\n",
    "    print(i)"
   ]
  },
  {
   "cell_type": "code",
   "execution_count": 4,
   "metadata": {},
   "outputs": [],
   "source": [
    "begin=7\n",
    "end=12"
   ]
  },
  {
   "cell_type": "markdown",
   "metadata": {},
   "source": [
    "Los siguientes índices que se multiplican por 4 y son los índices que el subproceso 1 trabajará:"
   ]
  },
  {
   "cell_type": "code",
   "execution_count": 5,
   "metadata": {},
   "outputs": [
    {
     "name": "stdout",
     "output_type": "stream",
     "text": [
      "7\n",
      "9\n",
      "11\n"
     ]
    }
   ],
   "source": [
    "for i in range(begin,end+1,2):\n",
    "    print(i)"
   ]
  },
  {
   "cell_type": "markdown",
   "metadata": {},
   "source": [
    "Estos son los siguientes índices que se multiplican por 2 y son los índices que el subproceso 1 trabajará:"
   ]
  },
  {
   "cell_type": "code",
   "execution_count": 7,
   "metadata": {},
   "outputs": [
    {
     "name": "stdout",
     "output_type": "stream",
     "text": [
      "8\n",
      "10\n",
      "12\n"
     ]
    }
   ],
   "source": [
    "for i in range(begin+1,end+1,2):\n",
    "    print(i)"
   ]
  },
  {
   "cell_type": "code",
   "execution_count": 29,
   "metadata": {},
   "outputs": [],
   "source": [
    "import math\n",
    "from multiprocessing import Pool \n",
    "from scipy.integrate import quad\n",
    "import time\n",
    "import multiprocessing as mp"
   ]
  },
  {
   "cell_type": "markdown",
   "metadata": {},
   "source": [
    "**¿Qué restricciones se deben colocar a las variables $n, ns\\text{_}p$ y $p$ para que el programa siguiente obtenga resultados correctos?**"
   ]
  },
  {
   "cell_type": "markdown",
   "metadata": {},
   "source": [
    "En el caso de $p$, que es el número de subprocesos a lanzar, éste se recomienda que sea menor o igual al número de cores que el sistema operativo puede usar.\n",
    "Para conocer el número de cores se utiliza la función cpu_count de multiprocessing."
   ]
  },
  {
   "cell_type": "code",
   "execution_count": 31,
   "metadata": {},
   "outputs": [],
   "source": [
    "import multiprocessing"
   ]
  },
  {
   "cell_type": "code",
   "execution_count": 32,
   "metadata": {},
   "outputs": [
    {
     "data": {
      "text/plain": [
       "4"
      ]
     },
     "execution_count": 32,
     "metadata": {},
     "output_type": "execute_result"
    }
   ],
   "source": [
    "multiprocessing.cpu_count()"
   ]
  },
  {
   "cell_type": "markdown",
   "metadata": {},
   "source": [
    "A la variable $n$, número de subintervalos, se le debe colocar como restricción que sea par, pues es una restricción en la fórmula de la regla de Simpson."
   ]
  },
  {
   "cell_type": "markdown",
   "metadata": {},
   "source": [
    "En cuanto a $ns\\_p$, el número de subintervalos que procesa cada subproceso, se recomienda repartirlos equitativamente entre cada subproceso."
   ]
  },
  {
   "cell_type": "markdown",
   "metadata": {},
   "source": [
    "---------------------------------------------------------------------------------------------------"
   ]
  },
  {
   "cell_type": "markdown",
   "metadata": {},
   "source": [
    "por ejemplo si pruebas con $n=6, p=2, ns\\text{_}p=6$ obtienes un error relativo de $10^{-7}$."
   ]
  },
  {
   "cell_type": "code",
   "execution_count": 14,
   "metadata": {},
   "outputs": [],
   "source": [
    "a=0\n",
    "b=1\n",
    "h=b-a\n",
    "f=lambda x: math.exp(-x**2)"
   ]
  },
  {
   "cell_type": "code",
   "execution_count": 147,
   "metadata": {},
   "outputs": [],
   "source": [
    "p=3 #número de subprocesos a lanzar"
   ]
  },
  {
   "cell_type": "code",
   "execution_count": 148,
   "metadata": {},
   "outputs": [],
   "source": [
    "n=6 #número de subintervalos a lanzar\n",
    "h_hat=h/n"
   ]
  },
  {
   "cell_type": "code",
   "execution_count": 149,
   "metadata": {},
   "outputs": [],
   "source": [
    "nt=2*n #variable de apoyo para definir ns_p\n",
    "ns_p=nt/p"
   ]
  },
  {
   "cell_type": "code",
   "execution_count": 150,
   "metadata": {},
   "outputs": [
    {
     "data": {
      "text/plain": [
       "12"
      ]
     },
     "execution_count": 150,
     "metadata": {},
     "output_type": "execute_result"
    }
   ],
   "source": [
    "nt"
   ]
  },
  {
   "cell_type": "code",
   "execution_count": 151,
   "metadata": {},
   "outputs": [
    {
     "data": {
      "text/plain": [
       "4.0"
      ]
     },
     "execution_count": 151,
     "metadata": {},
     "output_type": "execute_result"
    }
   ],
   "source": [
    "ns_p"
   ]
  },
  {
   "cell_type": "code",
   "execution_count": 152,
   "metadata": {},
   "outputs": [],
   "source": [
    "ns_p=int(ns_p)"
   ]
  },
  {
   "cell_type": "code",
   "execution_count": 153,
   "metadata": {},
   "outputs": [
    {
     "name": "stdout",
     "output_type": "stream",
     "text": [
      "id\n",
      "id\n",
      "id\n",
      "1\n",
      "0\n",
      "2\n",
      "begin\n",
      "begin\n",
      "1\n",
      "5\n",
      "begin\n",
      "9\n"
     ]
    }
   ],
   "source": [
    "def Scf_parallel(mi_id):\n",
    "    \"\"\"\n",
    "    Compute numerical approximation using Simpson rule in an interval\n",
    "    Nodes are generated via formula: x_i = a+i/2*h_hat for i=0,1,...,2n and h_hat=(b-a)/n\n",
    "    n must be an even number\n",
    "    Args:\n",
    "        mi_id (in): id of subprocess: 0,1,2,...\n",
    "    \"\"\"\n",
    "    begin = (mi_id*ns_p)+1\n",
    "    print(\"id\")\n",
    "    print(mi_id)\n",
    "    print(\"begin\")\n",
    "    print(begin)\n",
    "    end = begin-1+ns_p\n",
    "    #print(\"end\")\n",
    "    #print(end)\n",
    "    sum1=0\n",
    "    #next for loop considers sum that is multiplied by 4 in the expression\n",
    "    for i in range(begin,end+1,2):\n",
    "        x = a+i/2*h_hat\n",
    "        sum1+=f(x)\n",
    "    sum1=4*sum1\n",
    "    #print(sum1)\n",
    "    sum2=0\n",
    "    #next for loop considers sum that is multiplied by 2 in the expression\n",
    "    for i in range(begin+1,end+1,2):\n",
    "        x = a+i/2*h_hat\n",
    "        sum2+=f(x)\n",
    "    sum2=2*sum2\n",
    "    #print(sum2)\n",
    "    return sum1+sum2\n",
    "\n",
    "if __name__=='__main__':\n",
    "    start_time=time.time()\n",
    "    with Pool(processes=p) as pool:\n",
    "        results = pool.map(Scf_parallel,range(p))\n",
    "        aprox=h/(6*n)*(f(a)+sum(results)-f(b)) \n",
    "    end_time=time.time()"
   ]
  },
  {
   "cell_type": "markdown",
   "metadata": {},
   "source": [
    "para dos subprocesos: uno inicia en 1 y termina en 6, el otro inicia en 7 y termina en 12"
   ]
  },
  {
   "cell_type": "markdown",
   "metadata": {},
   "source": [
    "para tres subprocesos: uno inicia en 1 y termina en 4, otro inicia en 5 y termina en 8, y el otro incia en 9 y termina en 12"
   ]
  },
  {
   "cell_type": "code",
   "execution_count": 154,
   "metadata": {},
   "outputs": [
    {
     "name": "stdout",
     "output_type": "stream",
     "text": [
      "[1, 3]\n"
     ]
    }
   ],
   "source": [
    "print([*range(1,4+1,2)])"
   ]
  },
  {
   "cell_type": "code",
   "execution_count": 155,
   "metadata": {},
   "outputs": [
    {
     "name": "stdout",
     "output_type": "stream",
     "text": [
      "[2, 4]\n"
     ]
    }
   ],
   "source": [
    "print([*range(1+1,4+1,2)])"
   ]
  },
  {
   "cell_type": "code",
   "execution_count": 156,
   "metadata": {},
   "outputs": [
    {
     "name": "stdout",
     "output_type": "stream",
     "text": [
      "[5, 7]\n"
     ]
    }
   ],
   "source": [
    "print([*range(5,8+1,2)])"
   ]
  },
  {
   "cell_type": "code",
   "execution_count": 157,
   "metadata": {},
   "outputs": [
    {
     "name": "stdout",
     "output_type": "stream",
     "text": [
      "[6, 8]\n"
     ]
    }
   ],
   "source": [
    "print([*range(5+1,8+1,2)])"
   ]
  },
  {
   "cell_type": "code",
   "execution_count": 158,
   "metadata": {},
   "outputs": [
    {
     "name": "stdout",
     "output_type": "stream",
     "text": [
      "[9, 11]\n"
     ]
    }
   ],
   "source": [
    "print([*range(9,12+1,2)])"
   ]
  },
  {
   "cell_type": "code",
   "execution_count": 159,
   "metadata": {},
   "outputs": [
    {
     "name": "stdout",
     "output_type": "stream",
     "text": [
      "[10, 12]\n"
     ]
    }
   ],
   "source": [
    "print([*range(9+1,12+1,2)])"
   ]
  },
  {
   "cell_type": "markdown",
   "metadata": {},
   "source": [
    "**En el bloque del with ¿por qué tenemos que dividir por $\\frac{}{6n}$ en lugar de por $\\frac{}{3n}$ y por qué tenemos que restar $f(b)$?**"
   ]
  },
  {
   "cell_type": "markdown",
   "metadata": {},
   "source": [
    "Revisando a detalle la función *Scf_parallel*, se observa que se están repartiendo los nodos entre los subprocesos como nodos continuos de forma equitativa. Por ello, en la evaluación de nodos se incluye el último nodo de cada subintervalo (range termina en end+1) pues de lo contrario habría huecos en las evaluciones. Por ejemplo si $p=2$ y $n=6$, se reparten los nodos de 1 a 6 en un subproceso y de 7 a 12 en el otro subproceso, si no se incluyera end+1, no se estaría evaluando el nodo 6. \n",
    "\n",
    "De esta forma, el último nodo del intervalo completo, se está incluyendo en el for y por lo tanto ya se está evaluando el nodo $f(b)$, y no solo eso, además se está multiplicando por 2 el nodo $f(b)$ tal y como se hace con todos los nodos pares. Es decir, ya se incluye $2*f(b)$ en $sum2$. Por esto es necesario restar una vez $f(b)$ al final en $aprox$, para incluir solamente una vez el término $f(b)$ como lo indica la fórmula.\n",
    "\n",
    "En el caso de $f(a)$, esto no ocurre pues el nodo cero no se incluye en ninguna evaluación de los for."
   ]
  },
  {
   "cell_type": "markdown",
   "metadata": {},
   "source": [
    "En cuanto a por qué se divide entre 6n en lugar de entre 3n"
   ]
  },
  {
   "cell_type": "markdown",
   "metadata": {},
   "source": [
    "---------------------------------------------------------------------------------------------------"
   ]
  },
  {
   "cell_type": "code",
   "execution_count": 141,
   "metadata": {},
   "outputs": [
    {
     "data": {
      "text/plain": [
       "0.7468245263791944"
      ]
     },
     "execution_count": 141,
     "metadata": {},
     "output_type": "execute_result"
    }
   ],
   "source": [
    "aprox"
   ]
  },
  {
   "cell_type": "code",
   "execution_count": 142,
   "metadata": {},
   "outputs": [],
   "source": [
    "obj, err = quad(f, a, b)"
   ]
  },
  {
   "cell_type": "code",
   "execution_count": 143,
   "metadata": {},
   "outputs": [
    {
     "data": {
      "text/plain": [
       "0.7468241328124271"
      ]
     },
     "execution_count": 143,
     "metadata": {},
     "output_type": "execute_result"
    }
   ],
   "source": [
    "obj"
   ]
  },
  {
   "cell_type": "code",
   "execution_count": 144,
   "metadata": {},
   "outputs": [
    {
     "data": {
      "text/plain": [
       "1.4936482656248542"
      ]
     },
     "execution_count": 144,
     "metadata": {},
     "output_type": "execute_result"
    }
   ],
   "source": [
    "obj*2"
   ]
  },
  {
   "cell_type": "code",
   "execution_count": 145,
   "metadata": {},
   "outputs": [],
   "source": [
    "def err_relativo(aprox, obj):\n",
    "    return math.fabs(aprox-obj)/math.fabs(obj) #obsérvese el uso de la librería math"
   ]
  },
  {
   "cell_type": "code",
   "execution_count": 146,
   "metadata": {},
   "outputs": [
    {
     "data": {
      "text/plain": [
       "5.269872115742658e-07"
      ]
     },
     "execution_count": 146,
     "metadata": {},
     "output_type": "execute_result"
    }
   ],
   "source": [
    "err_relativo(aprox,obj)"
   ]
  },
  {
   "cell_type": "markdown",
   "metadata": {},
   "source": [
    "**¿Qué pasa si $n$ no es par? ¿qué tendríamos que modificar en la implementación si no es par?**"
   ]
  },
  {
   "cell_type": "code",
   "execution_count": null,
   "metadata": {},
   "outputs": [],
   "source": []
  }
 ],
 "metadata": {
  "kernelspec": {
   "display_name": "Python 3",
   "language": "python",
   "name": "python3"
  },
  "language_info": {
   "codemirror_mode": {
    "name": "ipython",
    "version": 3
   },
   "file_extension": ".py",
   "mimetype": "text/x-python",
   "name": "python",
   "nbconvert_exporter": "python",
   "pygments_lexer": "ipython3",
   "version": "3.6.9"
  }
 },
 "nbformat": 4,
 "nbformat_minor": 4
}

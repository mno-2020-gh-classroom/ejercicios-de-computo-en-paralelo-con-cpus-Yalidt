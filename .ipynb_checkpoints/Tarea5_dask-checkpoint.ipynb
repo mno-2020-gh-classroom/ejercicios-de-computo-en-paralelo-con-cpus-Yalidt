{
 "cells": [
  {
   "cell_type": "markdown",
   "metadata": {},
   "source": [
    "Hola voy a empezar a hacer pruebas con dask y regla de simpson, pero si prefieren usar otro metodo o herramienta no tengo problemas"
   ]
  },
  {
   "cell_type": "code",
   "execution_count": 24,
   "metadata": {},
   "outputs": [],
   "source": [
    "import math\n",
    "import time\n",
    "import multiprocessing\n",
    "import numpy as np\n",
    "from dask.distributed import Client\n",
    "from scipy.integrate import quad"
   ]
  },
  {
   "cell_type": "code",
   "execution_count": 7,
   "metadata": {},
   "outputs": [],
   "source": [
    "f=lambda x: np.exp(-x**2)\n",
    "a=0\n",
    "b=1\n",
    "n=10**6\n",
    "h_hat=(b-a)/n"
   ]
  },
  {
   "cell_type": "code",
   "execution_count": 8,
   "metadata": {},
   "outputs": [],
   "source": [
    "def Scf(n,f,a,b):\n",
    "    \"\"\"\n",
    "    Compute numerical approximation using trapezoidal rule in \n",
    "    an interval.\n",
    "    Nodes are generated via numpy\n",
    "    Args:\n",
    "        f (lambda expression): lambda expression of integrand\n",
    "        a (int): left point of interval\n",
    "        b (int): right point of interval\n",
    "        n (int): number of subintervals\n",
    "    Returns:\n",
    "        Tcf (float) \n",
    "    \"\"\"\n",
    "    h = b-a\n",
    "    h_hat=h/n\n",
    "    nodes=[a+(i)*h_hat for i in range(0,n+1)]\n",
    "    sum_res1=sum(f(np.asarray(nodes[2:n:2])))\n",
    "    sum_res2=sum(f(np.asarray(nodes[1:n:2])))\n",
    "    return h/(3*n)*(f(nodes[0])+f(nodes[-1])+2*sum_res1+4*sum_res2)"
   ]
  },
  {
   "cell_type": "code",
   "execution_count": 9,
   "metadata": {},
   "outputs": [],
   "source": [
    "start_time = time.time()\n",
    "aprox=Scf(n,f,a,b)\n",
    "end_time = time.time()"
   ]
  },
  {
   "cell_type": "code",
   "execution_count": 14,
   "metadata": {},
   "outputs": [
    {
     "name": "stdout",
     "output_type": "stream",
     "text": [
      "Scf tomó 0.6460535526275635 segundos\n"
     ]
    }
   ],
   "source": [
    "secs = end_time-start_time\n",
    "print(\"Scf tomó\",secs,\"segundos\" )"
   ]
  },
  {
   "cell_type": "code",
   "execution_count": 11,
   "metadata": {},
   "outputs": [],
   "source": [
    "obj, err = quad(f, a, b)"
   ]
  },
  {
   "cell_type": "code",
   "execution_count": 12,
   "metadata": {},
   "outputs": [],
   "source": [
    "def err_relativo(aprox, obj):\n",
    "    return math.fabs(aprox-obj)/math.fabs(obj) #obsérvese el uso de la librería math"
   ]
  },
  {
   "cell_type": "code",
   "execution_count": 13,
   "metadata": {},
   "outputs": [
    {
     "data": {
      "text/plain": [
       "6.392347001308277e-15"
      ]
     },
     "execution_count": 13,
     "metadata": {},
     "output_type": "execute_result"
    }
   ],
   "source": [
    "err_relativo(aprox,obj)"
   ]
  },
  {
   "cell_type": "code",
   "execution_count": 15,
   "metadata": {},
   "outputs": [
    {
     "name": "stdout",
     "output_type": "stream",
     "text": [
      "649 ms ± 15 ms per loop (mean ± std. dev. of 10 runs, 5 loops each)\n"
     ]
    }
   ],
   "source": [
    "Rcf_secuencial_timeit = %timeit -n 5 -r 10 -o Scf(n,f,a,b)"
   ]
  },
  {
   "cell_type": "code",
   "execution_count": 18,
   "metadata": {},
   "outputs": [],
   "source": [
    "p=multiprocessing.cpu_count()\n",
    "ns_p = int(n/p) "
   ]
  },
  {
   "cell_type": "code",
   "execution_count": 25,
   "metadata": {},
   "outputs": [
    {
     "name": "stderr",
     "output_type": "stream",
     "text": [
      "/home/miuser/.local/lib/python3.6/site-packages/distributed/dashboard/core.py:72: UserWarning: \n",
      "Port 8787 is already in use. \n",
      "Perhaps you already have a cluster running?\n",
      "Hosting the diagnostics dashboard on a random port instead.\n",
      "  warnings.warn(\"\\n\" + msg)\n"
     ]
    }
   ],
   "source": [
    "client = Client()"
   ]
  },
  {
   "cell_type": "code",
   "execution_count": 19,
   "metadata": {},
   "outputs": [],
   "source": [
    "def construye_nodos_en_subintervalos(mi_id,a,b,h_hat,n,ns_p):\n",
    "    begin=mi_id*ns_p\n",
    "    end=begin+ns_p\n",
    "    h_hat=(b-a)/n\n",
    "    nodos = []\n",
    "    for i in range(begin,end):\n",
    "        nodos.append(a+(i+1/2.0)*h_hat)\n",
    "    return nodos"
   ]
  },
  {
   "cell_type": "code",
   "execution_count": 20,
   "metadata": {},
   "outputs": [],
   "source": [
    "def evalua_f_en_nodos_y_suma(nodos,f):\n",
    "    suma_res = 0\n",
    "    for nodo in nodos:\n",
    "        suma_res+=f(nodo)\n",
    "    return suma_res"
   ]
  },
  {
   "cell_type": "code",
   "execution_count": 26,
   "metadata": {},
   "outputs": [
    {
     "name": "stdout",
     "output_type": "stream",
     "text": [
      "CPU times: user 225 ms, sys: 22.2 ms, total: 247 ms\n",
      "Wall time: 4.19 s\n"
     ]
    }
   ],
   "source": [
    "%%time\n",
    "futures_nodos = client.map(construye_nodos_en_subintervalos,range(p),\n",
    "                                                            **{'a':a,\n",
    "                                                               'b':b,\n",
    "                                                               'h_hat':h_hat,\n",
    "                                                               'n':n,\n",
    "                                                               'ns_p':ns_p}\n",
    "                            )\n",
    "futures_evalua = client.map(evalua_f_en_nodos_y_suma, futures_nodos,\n",
    "                                                       **{'f':f}\n",
    "                            )\n",
    "results = client.gather(futures_evalua)\n",
    "aprox=h_hat*sum(results)"
   ]
  },
  {
   "cell_type": "code",
   "execution_count": 27,
   "metadata": {},
   "outputs": [
    {
     "data": {
      "text/plain": [
       "4.816559135869493e-14"
      ]
     },
     "execution_count": 27,
     "metadata": {},
     "output_type": "execute_result"
    }
   ],
   "source": [
    "err_relativo(aprox,obj)"
   ]
  },
  {
   "cell_type": "code",
   "execution_count": 28,
   "metadata": {},
   "outputs": [],
   "source": [
    "client.close()"
   ]
  },
  {
   "cell_type": "code",
   "execution_count": null,
   "metadata": {},
   "outputs": [],
   "source": []
  }
 ],
 "metadata": {
  "kernelspec": {
   "display_name": "Python 3",
   "language": "python",
   "name": "python3"
  },
  "language_info": {
   "codemirror_mode": {
    "name": "ipython",
    "version": 3
   },
   "file_extension": ".py",
   "mimetype": "text/x-python",
   "name": "python",
   "nbconvert_exporter": "python",
   "pygments_lexer": "ipython3",
   "version": "3.6.9"
  }
 },
 "nbformat": 4,
 "nbformat_minor": 4
}

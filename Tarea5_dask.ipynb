{
 "cells": [
  {
   "cell_type": "markdown",
   "metadata": {},
   "source": [
    "Hola voy a empezar a hacer pruebas con dask y regla de simpson, pero si prefieren usar otro metodo o herramienta no tengo problemas"
   ]
  },
  {
   "cell_type": "code",
   "execution_count": 24,
   "metadata": {},
   "outputs": [],
   "source": [
    "import math\n",
    "import time\n",
    "import multiprocessing\n",
    "import numpy as np\n",
    "from dask.distributed import Client\n",
    "from scipy.integrate import quad"
   ]
  },
  {
   "cell_type": "code",
   "execution_count": 7,
   "metadata": {},
   "outputs": [],
   "source": [
    "f=lambda x: np.exp(-x**2)\n",
    "a=0\n",
    "b=1\n",
    "n=10**6\n",
    "h_hat=(b-a)/n"
   ]
  },
  {
   "cell_type": "code",
   "execution_count": 8,
   "metadata": {},
   "outputs": [],
   "source": [
    "def Scf(n,f,a,b):\n",
    "    \"\"\"\n",
    "    Compute numerical approximation using trapezoidal rule in \n",
    "    an interval.\n",
    "    Nodes are generated via numpy\n",
    "    Args:\n",
    "        f (lambda expression): lambda expression of integrand\n",
    "        a (int): left point of interval\n",
    "        b (int): right point of interval\n",
    "        n (int): number of subintervals\n",
    "    Returns:\n",
    "        Tcf (float) \n",
    "    \"\"\"\n",
    "    h = b-a\n",
    "    h_hat=h/n\n",
    "    nodes=[a+(i)*h_hat for i in range(0,n+1)]\n",
    "    sum_res1=sum(f(np.asarray(nodes[2:n:2])))\n",
    "    sum_res2=sum(f(np.asarray(nodes[1:n:2])))\n",
    "    return h/(3*n)*(f(nodes[0])+f(nodes[-1])+2*sum_res1+4*sum_res2)"
   ]
  },
  {
   "cell_type": "code",
   "execution_count": 9,
   "metadata": {},
   "outputs": [],
   "source": [
    "start_time = time.time()\n",
    "aprox=Scf(n,f,a,b)\n",
    "end_time = time.time()"
   ]
  },
  {
   "cell_type": "code",
   "execution_count": 14,
   "metadata": {},
   "outputs": [
    {
     "name": "stdout",
     "output_type": "stream",
     "text": [
      "Scf tomó 0.6460535526275635 segundos\n"
     ]
    }
   ],
   "source": [
    "secs = end_time-start_time\n",
    "print(\"Scf tomó\",secs,\"segundos\" )"
   ]
  },
  {
   "cell_type": "code",
   "execution_count": 11,
   "metadata": {},
   "outputs": [],
   "source": [
    "obj, err = quad(f, a, b)"
   ]
  },
  {
   "cell_type": "code",
   "execution_count": 12,
   "metadata": {},
   "outputs": [],
   "source": [
    "def err_relativo(aprox, obj):\n",
    "    return math.fabs(aprox-obj)/math.fabs(obj) #obsérvese el uso de la librería math"
   ]
  },
  {
   "cell_type": "code",
   "execution_count": 13,
   "metadata": {},
   "outputs": [
    {
     "data": {
      "text/plain": [
       "6.392347001308277e-15"
      ]
     },
     "execution_count": 13,
     "metadata": {},
     "output_type": "execute_result"
    }
   ],
   "source": [
    "err_relativo(aprox,obj)"
   ]
  },
  {
   "cell_type": "code",
   "execution_count": 15,
   "metadata": {},
   "outputs": [
    {
     "name": "stdout",
     "output_type": "stream",
     "text": [
      "649 ms ± 15 ms per loop (mean ± std. dev. of 10 runs, 5 loops each)\n"
     ]
    }
   ],
   "source": [
    "Rcf_secuencial_timeit = %timeit -n 5 -r 10 -o Scf(n,f,a,b)"
   ]
  },
  {
   "cell_type": "code",
   "execution_count": 18,
   "metadata": {},
   "outputs": [],
   "source": [
    "p=multiprocessing.cpu_count()\n",
    "ns_p = int(n/p) "
   ]
  },
  {
   "cell_type": "code",
   "execution_count": 25,
   "metadata": {},
   "outputs": [
    {
     "name": "stderr",
     "output_type": "stream",
     "text": [
      "/home/miuser/.local/lib/python3.6/site-packages/distributed/dashboard/core.py:72: UserWarning: \n",
      "Port 8787 is already in use. \n",
      "Perhaps you already have a cluster running?\n",
      "Hosting the diagnostics dashboard on a random port instead.\n",
      "  warnings.warn(\"\\n\" + msg)\n"
     ]
    }
   ],
   "source": [
    "client = Client()"
   ]
  },
  {
   "cell_type": "code",
   "execution_count": 36,
   "metadata": {},
   "outputs": [],
   "source": [
    "def construye_nodos_en_subintervalos(mi_id,a,b,h_hat,n,ns_p):\n",
    "    \n",
    "    #begin=mi_id*ns_p\n",
    "    #end=begin+ns_p\n",
    "    h_hat=(b-a)/n\n",
    "    #nodos = []\n",
    "    nodos_par = []\n",
    "    nodos_non = []\n",
    "    for i in range(0,n):\n",
    "        #nodos.append(a+(i+1/2.0)*h_hat)\n",
    "        if i%2==0:\n",
    "            nodos_par.append(a+i*h_hat)\n",
    "        else:\n",
    "            nodos_non.append(a+i*h_hat)\n",
    "    return nodos_par, nodos_non"
   ]
  },
  {
   "cell_type": "code",
   "execution_count": 37,
   "metadata": {},
   "outputs": [],
   "source": [
    "def evalua_f_en_nodos_y_suma(nodos,f):\n",
    "    suma_res1 = 0\n",
    "    suma_res2 = 0\n",
    "    for nodo in nodos[0]:\n",
    "        suma_res1+=f(nodo)*2\n",
    "    for nodo in nodos[1]:\n",
    "        suma_res2+=f(nodo)*4\n",
    "    return suma_res1+suma_res2"
   ]
  },
  {
   "cell_type": "code",
   "execution_count": 38,
   "metadata": {},
   "outputs": [
    {
     "ename": "Exception",
     "evalue": "Tried sending message after closing.  Status: closed\nMessage: {'op': 'update-graph', 'tasks': {'construye_nodos_en_subintervalos-35e6f884aefe6e14dcbfa0ea22217436': <Serialize: (<function apply at 0x7f267bd4f510>, <function construye_nodos_en_subintervalos at 0x7f267041b9d8>, (<class 'tuple'>, [0]), {'a': 0, 'b': 1, 'h_hat': 1e-06, 'n': 1000000, 'ns_p': 250000})>, 'construye_nodos_en_subintervalos-983679b7055cf34f628083734a677559': <Serialize: (<function apply at 0x7f267bd4f510>, <function construye_nodos_en_subintervalos at 0x7f267041b9d8>, (<class 'tuple'>, [1]), {'a': 0, 'b': 1, 'h_hat': 1e-06, 'n': 1000000, 'ns_p': 250000})>, 'construye_nodos_en_subintervalos-189c483f1cbe4dde0c6e48436195380c': <Serialize: (<function apply at 0x7f267bd4f510>, <function construye_nodos_en_subintervalos at 0x7f267041b9d8>, (<class 'tuple'>, [2]), {'a': 0, 'b': 1, 'h_hat': 1e-06, 'n': 1000000, 'ns_p': 250000})>, 'construye_nodos_en_subintervalos-6563bed1f8ca5244ed335f71444f6dde': <Serialize: (<function apply at 0x7f267bd4f510>, <function construye_nodos_en_subintervalos at 0x7f267041b9d8>, (<class 'tuple'>, [3]), {'a': 0, 'b': 1, 'h_hat': 1e-06, 'n': 1000000, 'ns_p': 250000})>}, 'dependencies': {'construye_nodos_en_subintervalos-35e6f884aefe6e14dcbfa0ea22217436': [], 'construye_nodos_en_subintervalos-983679b7055cf34f628083734a677559': [], 'construye_nodos_en_subintervalos-189c483f1cbe4dde0c6e48436195380c': [], 'construye_nodos_en_subintervalos-6563bed1f8ca5244ed335f71444f6dde': []}, 'keys': ['construye_nodos_en_subintervalos-35e6f884aefe6e14dcbfa0ea22217436', 'construye_nodos_en_subintervalos-983679b7055cf34f628083734a677559', 'construye_nodos_en_subintervalos-189c483f1cbe4dde0c6e48436195380c', 'construye_nodos_en_subintervalos-6563bed1f8ca5244ed335f71444f6dde'], 'restrictions': {}, 'loose_restrictions': [], 'priority': {'construye_nodos_en_subintervalos-35e6f884aefe6e14dcbfa0ea22217436': 0, 'construye_nodos_en_subintervalos-983679b7055cf34f628083734a677559': 1, 'construye_nodos_en_subintervalos-189c483f1cbe4dde0c6e48436195380c': 2, 'construye_nodos_en_subintervalos-6563bed1f8ca5244ed335f71444f6dde': 3}, 'user_priority': 0, 'resources': None, 'submitting_task': None, 'retries': None, 'fifo_timeout': '100 ms', 'actors': False}",
     "output_type": "error",
     "traceback": [
      "\u001b[0;31m---------------------------------------------------------------------------\u001b[0m",
      "\u001b[0;31mException\u001b[0m                                 Traceback (most recent call last)",
      "\u001b[0;32m<timed exec>\u001b[0m in \u001b[0;36m<module>\u001b[0;34m\u001b[0m\n",
      "\u001b[0;32m~/.local/lib/python3.6/site-packages/distributed/client.py\u001b[0m in \u001b[0;36mmap\u001b[0;34m(self, func, key, workers, retries, resources, priority, allow_other_workers, fifo_timeout, actor, actors, pure, *iterables, **kwargs)\u001b[0m\n\u001b[1;32m   1673\u001b[0m             \u001b[0muser_priority\u001b[0m\u001b[0;34m=\u001b[0m\u001b[0mpriority\u001b[0m\u001b[0;34m,\u001b[0m\u001b[0;34m\u001b[0m\u001b[0;34m\u001b[0m\u001b[0m\n\u001b[1;32m   1674\u001b[0m             \u001b[0mfifo_timeout\u001b[0m\u001b[0;34m=\u001b[0m\u001b[0mfifo_timeout\u001b[0m\u001b[0;34m,\u001b[0m\u001b[0;34m\u001b[0m\u001b[0;34m\u001b[0m\u001b[0m\n\u001b[0;32m-> 1675\u001b[0;31m             \u001b[0mactors\u001b[0m\u001b[0;34m=\u001b[0m\u001b[0mactor\u001b[0m\u001b[0;34m,\u001b[0m\u001b[0;34m\u001b[0m\u001b[0;34m\u001b[0m\u001b[0m\n\u001b[0m\u001b[1;32m   1676\u001b[0m         )\n\u001b[1;32m   1677\u001b[0m         \u001b[0mlogger\u001b[0m\u001b[0;34m.\u001b[0m\u001b[0mdebug\u001b[0m\u001b[0;34m(\u001b[0m\u001b[0;34m\"map(%s, ...)\"\u001b[0m\u001b[0;34m,\u001b[0m \u001b[0mfuncname\u001b[0m\u001b[0;34m(\u001b[0m\u001b[0mfunc\u001b[0m\u001b[0;34m)\u001b[0m\u001b[0;34m)\u001b[0m\u001b[0;34m\u001b[0m\u001b[0;34m\u001b[0m\u001b[0m\n",
      "\u001b[0;32m~/.local/lib/python3.6/site-packages/distributed/client.py\u001b[0m in \u001b[0;36m_graph_to_futures\u001b[0;34m(self, dsk, keys, restrictions, loose_restrictions, priority, user_priority, resources, retries, fifo_timeout, actors)\u001b[0m\n\u001b[1;32m   2498\u001b[0m                     \u001b[0;34m\"retries\"\u001b[0m\u001b[0;34m:\u001b[0m \u001b[0mretries\u001b[0m\u001b[0;34m,\u001b[0m\u001b[0;34m\u001b[0m\u001b[0;34m\u001b[0m\u001b[0m\n\u001b[1;32m   2499\u001b[0m                     \u001b[0;34m\"fifo_timeout\"\u001b[0m\u001b[0;34m:\u001b[0m \u001b[0mfifo_timeout\u001b[0m\u001b[0;34m,\u001b[0m\u001b[0;34m\u001b[0m\u001b[0;34m\u001b[0m\u001b[0m\n\u001b[0;32m-> 2500\u001b[0;31m                     \u001b[0;34m\"actors\"\u001b[0m\u001b[0;34m:\u001b[0m \u001b[0mactors\u001b[0m\u001b[0;34m,\u001b[0m\u001b[0;34m\u001b[0m\u001b[0;34m\u001b[0m\u001b[0m\n\u001b[0m\u001b[1;32m   2501\u001b[0m                 }\n\u001b[1;32m   2502\u001b[0m             )\n",
      "\u001b[0;32m~/.local/lib/python3.6/site-packages/distributed/client.py\u001b[0m in \u001b[0;36m_send_to_scheduler\u001b[0;34m(self, msg)\u001b[0m\n\u001b[1;32m    918\u001b[0m             raise Exception(\n\u001b[1;32m    919\u001b[0m                 \u001b[0;34m\"Tried sending message after closing.  Status: %s\\n\"\u001b[0m\u001b[0;34m\u001b[0m\u001b[0;34m\u001b[0m\u001b[0m\n\u001b[0;32m--> 920\u001b[0;31m                 \u001b[0;34m\"Message: %s\"\u001b[0m \u001b[0;34m%\u001b[0m \u001b[0;34m(\u001b[0m\u001b[0mself\u001b[0m\u001b[0;34m.\u001b[0m\u001b[0mstatus\u001b[0m\u001b[0;34m,\u001b[0m \u001b[0mmsg\u001b[0m\u001b[0;34m)\u001b[0m\u001b[0;34m\u001b[0m\u001b[0;34m\u001b[0m\u001b[0m\n\u001b[0m\u001b[1;32m    921\u001b[0m             )\n\u001b[1;32m    922\u001b[0m \u001b[0;34m\u001b[0m\u001b[0m\n",
      "\u001b[0;31mException\u001b[0m: Tried sending message after closing.  Status: closed\nMessage: {'op': 'update-graph', 'tasks': {'construye_nodos_en_subintervalos-35e6f884aefe6e14dcbfa0ea22217436': <Serialize: (<function apply at 0x7f267bd4f510>, <function construye_nodos_en_subintervalos at 0x7f267041b9d8>, (<class 'tuple'>, [0]), {'a': 0, 'b': 1, 'h_hat': 1e-06, 'n': 1000000, 'ns_p': 250000})>, 'construye_nodos_en_subintervalos-983679b7055cf34f628083734a677559': <Serialize: (<function apply at 0x7f267bd4f510>, <function construye_nodos_en_subintervalos at 0x7f267041b9d8>, (<class 'tuple'>, [1]), {'a': 0, 'b': 1, 'h_hat': 1e-06, 'n': 1000000, 'ns_p': 250000})>, 'construye_nodos_en_subintervalos-189c483f1cbe4dde0c6e48436195380c': <Serialize: (<function apply at 0x7f267bd4f510>, <function construye_nodos_en_subintervalos at 0x7f267041b9d8>, (<class 'tuple'>, [2]), {'a': 0, 'b': 1, 'h_hat': 1e-06, 'n': 1000000, 'ns_p': 250000})>, 'construye_nodos_en_subintervalos-6563bed1f8ca5244ed335f71444f6dde': <Serialize: (<function apply at 0x7f267bd4f510>, <function construye_nodos_en_subintervalos at 0x7f267041b9d8>, (<class 'tuple'>, [3]), {'a': 0, 'b': 1, 'h_hat': 1e-06, 'n': 1000000, 'ns_p': 250000})>}, 'dependencies': {'construye_nodos_en_subintervalos-35e6f884aefe6e14dcbfa0ea22217436': [], 'construye_nodos_en_subintervalos-983679b7055cf34f628083734a677559': [], 'construye_nodos_en_subintervalos-189c483f1cbe4dde0c6e48436195380c': [], 'construye_nodos_en_subintervalos-6563bed1f8ca5244ed335f71444f6dde': []}, 'keys': ['construye_nodos_en_subintervalos-35e6f884aefe6e14dcbfa0ea22217436', 'construye_nodos_en_subintervalos-983679b7055cf34f628083734a677559', 'construye_nodos_en_subintervalos-189c483f1cbe4dde0c6e48436195380c', 'construye_nodos_en_subintervalos-6563bed1f8ca5244ed335f71444f6dde'], 'restrictions': {}, 'loose_restrictions': [], 'priority': {'construye_nodos_en_subintervalos-35e6f884aefe6e14dcbfa0ea22217436': 0, 'construye_nodos_en_subintervalos-983679b7055cf34f628083734a677559': 1, 'construye_nodos_en_subintervalos-189c483f1cbe4dde0c6e48436195380c': 2, 'construye_nodos_en_subintervalos-6563bed1f8ca5244ed335f71444f6dde': 3}, 'user_priority': 0, 'resources': None, 'submitting_task': None, 'retries': None, 'fifo_timeout': '100 ms', 'actors': False}"
     ]
    }
   ],
   "source": [
    "%%time\n",
    "futures_nodos = client.map(construye_nodos_en_subintervalos,range(p),\n",
    "                                                            **{'a':a,\n",
    "                                                               'b':b,\n",
    "                                                               'h_hat':h_hat,\n",
    "                                                               'n':n,\n",
    "                                                               'ns_p':ns_p}\n",
    "                            )\n",
    "futures_evalua = client.map(evalua_f_en_nodos_y_suma, futures_nodos,\n",
    "                                                       **{'f':f}\n",
    "                            )\n",
    "results = client.gather(futures_evalua)\n",
    "aprox=h_hat*sum(results)/3"
   ]
  },
  {
   "cell_type": "code",
   "execution_count": 27,
   "metadata": {},
   "outputs": [
    {
     "data": {
      "text/plain": [
       "4.816559135869493e-14"
      ]
     },
     "execution_count": 27,
     "metadata": {},
     "output_type": "execute_result"
    }
   ],
   "source": [
    "err_relativo(aprox,obj)"
   ]
  },
  {
   "cell_type": "code",
   "execution_count": 28,
   "metadata": {},
   "outputs": [],
   "source": [
    "client.close()"
   ]
  },
  {
   "cell_type": "code",
   "execution_count": null,
   "metadata": {},
   "outputs": [],
   "source": []
  }
 ],
 "metadata": {
  "kernelspec": {
   "display_name": "Python 3",
   "language": "python",
   "name": "python3"
  },
  "language_info": {
   "codemirror_mode": {
    "name": "ipython",
    "version": 3
   },
   "file_extension": ".py",
   "mimetype": "text/x-python",
   "name": "python",
   "nbconvert_exporter": "python",
   "pygments_lexer": "ipython3",
   "version": "3.6.9"
  }
 },
 "nbformat": 4,
 "nbformat_minor": 4
}

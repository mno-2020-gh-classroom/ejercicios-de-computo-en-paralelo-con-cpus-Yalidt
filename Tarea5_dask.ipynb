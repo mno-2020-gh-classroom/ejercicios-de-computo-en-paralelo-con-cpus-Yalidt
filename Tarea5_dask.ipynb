{
 "cells": [
  {
   "cell_type": "markdown",
   "metadata": {},
   "source": [
    "## Regla de Simpson -Computo paralelo con Dask"
   ]
  },
  {
   "cell_type": "code",
   "execution_count": 1,
   "metadata": {},
   "outputs": [
    {
     "name": "stderr",
     "output_type": "stream",
     "text": [
      "/Users/pozoshidalgo/anaconda3/lib/python3.7/site-packages/dask/config.py:168: YAMLLoadWarning: calling yaml.load() without Loader=... is deprecated, as the default Loader is unsafe. Please read https://msg.pyyaml.org/load for full details.\n",
      "  data = yaml.load(f.read()) or {}\n",
      "/Users/pozoshidalgo/anaconda3/lib/python3.7/site-packages/distributed/config.py:20: YAMLLoadWarning: calling yaml.load() without Loader=... is deprecated, as the default Loader is unsafe. Please read https://msg.pyyaml.org/load for full details.\n",
      "  defaults = yaml.load(f)\n"
     ]
    }
   ],
   "source": [
    "#Importamos las librerias\n",
    "import math\n",
    "import time\n",
    "import multiprocessing\n",
    "import numpy as np\n",
    "from dask.distributed import Client\n",
    "from scipy.integrate import quad"
   ]
  },
  {
   "cell_type": "code",
   "execution_count": 2,
   "metadata": {},
   "outputs": [],
   "source": [
    "f=lambda x: np.exp(-x**2) #Función a aproximar\n",
    "a=0\n",
    "b=1\n",
    "n=10**6\n",
    "h_hat=(b-a)/n"
   ]
  },
  {
   "cell_type": "markdown",
   "metadata": {},
   "source": [
    "### Forma secuencial"
   ]
  },
  {
   "cell_type": "code",
   "execution_count": 3,
   "metadata": {},
   "outputs": [],
   "source": [
    "def Scf(n,f,a,b): #algoritmo1\n",
    "    \"\"\"\n",
    "    Compute numerical approximation using trapezoidal rule in \n",
    "    an interval.\n",
    "    Nodes are generated via numpy\n",
    "    Args:\n",
    "        f (lambda expression): lambda expression of integrand\n",
    "        a (int): left point of interval\n",
    "        b (int): right point of interval\n",
    "        n (int): number of subintervals \n",
    "    \"\"\"\n",
    "    h = b-a\n",
    "    h_hat=h/n\n",
    "    nodes=[a+(i)*h_hat for i in range(0,n+1)]\n",
    "    sum_res1=sum(f(np.asarray(nodes[2:n:2])))\n",
    "    sum_res2=sum(f(np.asarray(nodes[1:n:2])))\n",
    "    return h/(3*n)*(f(nodes[0])+f(nodes[-1])+2*sum_res1+4*sum_res2)"
   ]
  },
  {
   "cell_type": "code",
   "execution_count": 4,
   "metadata": {},
   "outputs": [],
   "source": [
    "start_time = time.time()\n",
    "aprox=Scf(n,f,a,b)\n",
    "end_time = time.time()"
   ]
  },
  {
   "cell_type": "code",
   "execution_count": 5,
   "metadata": {},
   "outputs": [
    {
     "name": "stdout",
     "output_type": "stream",
     "text": [
      "Scf tomó 0.49489808082580566 segundos\n"
     ]
    }
   ],
   "source": [
    "secs = end_time-start_time\n",
    "print(\"Scf tomó\",secs,\"segundos\" )"
   ]
  },
  {
   "cell_type": "code",
   "execution_count": 6,
   "metadata": {},
   "outputs": [],
   "source": [
    "obj, err = quad(f, a, b)"
   ]
  },
  {
   "cell_type": "code",
   "execution_count": 7,
   "metadata": {},
   "outputs": [],
   "source": [
    "def err_relativo(aprox, obj):\n",
    "    return math.fabs(aprox-obj)/math.fabs(obj) #obsérvese el uso de la librería math"
   ]
  },
  {
   "cell_type": "code",
   "execution_count": 8,
   "metadata": {},
   "outputs": [
    {
     "data": {
      "text/plain": [
       "6.392347001308277e-15"
      ]
     },
     "execution_count": 8,
     "metadata": {},
     "output_type": "execute_result"
    }
   ],
   "source": [
    "err_relativo(aprox,obj)"
   ]
  },
  {
   "cell_type": "code",
   "execution_count": 9,
   "metadata": {},
   "outputs": [
    {
     "name": "stdout",
     "output_type": "stream",
     "text": [
      "382 ms ± 22.2 ms per loop (mean ± std. dev. of 10 runs, 5 loops each)\n"
     ]
    }
   ],
   "source": [
    "Scf_secuencial_timeit = %timeit -n 5 -r 10 -o Scf(n,f,a,b)"
   ]
  },
  {
   "cell_type": "code",
   "execution_count": 10,
   "metadata": {},
   "outputs": [],
   "source": [
    "def Scf_2(n,f,a,b):   #algoritmo 2\n",
    "    h_hat = (b-a)/(n)\n",
    "    suma = f(a) + f(b)\n",
    "    for i in range(1,n,1):\n",
    "        if(i%2 ==0):\n",
    "            suma += (2*(f(a + i*h_hat)))\n",
    "        else:\n",
    "            suma += (4*(f(a + i*h_hat)))\n",
    "    suma *= (h_hat/3.0)\n",
    "    return suma"
   ]
  },
  {
   "cell_type": "code",
   "execution_count": 11,
   "metadata": {},
   "outputs": [],
   "source": [
    "start_time = time.time()\n",
    "aprox=Scf_2(n,f,a,b)\n",
    "end_time = time.time()"
   ]
  },
  {
   "cell_type": "code",
   "execution_count": 12,
   "metadata": {},
   "outputs": [
    {
     "name": "stdout",
     "output_type": "stream",
     "text": [
      "Scf tomó 2.927259683609009 segundos\n"
     ]
    }
   ],
   "source": [
    "secs = end_time-start_time\n",
    "print(\"Scf tomó\",secs,\"segundos\" )"
   ]
  },
  {
   "cell_type": "code",
   "execution_count": 13,
   "metadata": {},
   "outputs": [],
   "source": [
    "obj, err = quad(f, a, b)"
   ]
  },
  {
   "cell_type": "code",
   "execution_count": 14,
   "metadata": {},
   "outputs": [
    {
     "data": {
      "text/plain": [
       "3.434028272795842e-14"
      ]
     },
     "execution_count": 14,
     "metadata": {},
     "output_type": "execute_result"
    }
   ],
   "source": [
    "err_relativo(aprox,obj)"
   ]
  },
  {
   "cell_type": "code",
   "execution_count": 15,
   "metadata": {},
   "outputs": [
    {
     "name": "stdout",
     "output_type": "stream",
     "text": [
      "3.01 s ± 39.9 ms per loop (mean ± std. dev. of 10 runs, 5 loops each)\n"
     ]
    }
   ],
   "source": [
    "Scf_secuencial_timeit = %timeit -n 5 -r 10 -o Scf_2(n,f,a,b)"
   ]
  },
  {
   "cell_type": "markdown",
   "metadata": {},
   "source": [
    "El primer algoritmo es mejor porque tanto su tiempo de ejecución y su error relativo son más pequeños."
   ]
  },
  {
   "cell_type": "markdown",
   "metadata": {},
   "source": [
    "### Forma paralelo"
   ]
  },
  {
   "cell_type": "markdown",
   "metadata": {},
   "source": [
    "De forma sencilla se puede ver que la regla compuesta de Simpson compuesta $S_c(f)$ se escribe como:\n",
    "\n",
    "$$S_c(f) = \\displaystyle \\frac{h}{3n} \\left [ f(x_0) + f(x_n) + 2 \\sum_{i=1}^{\\frac{n}{2}-1}f(x_{2i}) + 4 \\sum_{i=1}^{\\frac{n}{2}}f(x_{2i-1})\\right ] $$\n",
    "con $h=b-a$ y $n$ número de subintervalos (par).\n",
    "\n",
    "Nota: Los nodos para el caso de Simpson se obtienen con la fórmula: $x_i = a +\\frac{i}{2}\\hat{h}, \\forall i=0,\\dots,2n, \\hat{h}=\\frac{h}{n}$."
   ]
  },
  {
   "cell_type": "code",
   "execution_count": 16,
   "metadata": {},
   "outputs": [
    {
     "data": {
      "text/plain": [
       "250000"
      ]
     },
     "execution_count": 16,
     "metadata": {},
     "output_type": "execute_result"
    }
   ],
   "source": [
    "p=multiprocessing.cpu_count()\n",
    "ns_p = int(n/p) \n",
    "ns_p #Cada core hace 250,000 intervalos para calcular la integral"
   ]
  },
  {
   "cell_type": "code",
   "execution_count": 17,
   "metadata": {},
   "outputs": [],
   "source": [
    "client = Client()"
   ]
  },
  {
   "cell_type": "code",
   "execution_count": 18,
   "metadata": {},
   "outputs": [],
   "source": [
    "def construye_nodos_en_subintervalos(mi_id,a,b,h_hat,n,ns_p):\n",
    "    h_hat=(b-a)/n\n",
    "    #nodos = []\n",
    "    nodos_par = []\n",
    "    nodos_non = []\n",
    "    for i in range(0,n):\n",
    "        #nodos.append(a+(i+1/2.0)*h_hat)\n",
    "        if i%2==0:\n",
    "            nodos_par.append(a+i*h_hat)\n",
    "        else:\n",
    "            nodos_non.append(a+i*h_hat)\n",
    "    return nodos_par, nodos_non"
   ]
  },
  {
   "cell_type": "code",
   "execution_count": 19,
   "metadata": {},
   "outputs": [],
   "source": [
    "def evalua_f_en_nodos_y_suma_pares(nodos_par,f):\n",
    "    suma_res1 = 0\n",
    "    for nodo in nodos_par[0]:\n",
    "        suma_res1+=f(nodo)*2\n",
    "    return suma_res1"
   ]
  },
  {
   "cell_type": "code",
   "execution_count": 20,
   "metadata": {},
   "outputs": [],
   "source": [
    "def evalua_f_en_nodos_y_suma_nones(nodos_non,f):\n",
    "    suma_res2 = 0\n",
    "    for nodo in nodos_non[1]:\n",
    "        suma_res2+=f(nodo)*2\n",
    "    return suma_res2"
   ]
  },
  {
   "cell_type": "code",
   "execution_count": 21,
   "metadata": {},
   "outputs": [
    {
     "name": "stdout",
     "output_type": "stream",
     "text": [
      "CPU times: user 959 ms, sys: 407 ms, total: 1.37 s\n",
      "Wall time: 20.3 s\n"
     ]
    }
   ],
   "source": [
    "%%time\n",
    "futures_nodos = client.map(construye_nodos_en_subintervalos,range(p),\n",
    "                                                            **{'a':a,\n",
    "                                                               'b':b,\n",
    "                                                               'h_hat':h_hat,\n",
    "                                                               'n':n,\n",
    "                                                               'ns_p':ns_p}\n",
    "                            )\n",
    "futures_evalua_pares = client.map(evalua_f_en_nodos_y_suma_pares, futures_nodos,\n",
    "                                                       **{'f':f,}\n",
    "                            )\n",
    "futures_evalua_nones = client.map(evalua_f_en_nodos_y_suma_nones, futures_nodos,\n",
    "                                                       **{'f':f,}\n",
    "                            )\n",
    "results_pares= client.gather(futures_evalua_pares)\n",
    "results_nones= client.gather(futures_evalua_nones)\n",
    "results=results_pares+results_nones\n",
    "aprox=h_hat*sum(results)/3"
   ]
  },
  {
   "cell_type": "code",
   "execution_count": 22,
   "metadata": {},
   "outputs": [
    {
     "data": {
      "text/plain": [
       "3.434028272795842e-14"
      ]
     },
     "execution_count": 22,
     "metadata": {},
     "output_type": "execute_result"
    }
   ],
   "source": [
    "err_relativo(aprox,obj)"
   ]
  },
  {
   "cell_type": "code",
   "execution_count": 23,
   "metadata": {},
   "outputs": [],
   "source": [
    "client.close()"
   ]
  },
  {
   "cell_type": "markdown",
   "metadata": {},
   "source": [
    "### Gráfica tiempo de ejecución vs num procesos"
   ]
  },
  {
   "cell_type": "code",
   "execution_count": 24,
   "metadata": {},
   "outputs": [
    {
     "data": {
      "text/plain": [
       "4"
      ]
     },
     "execution_count": 24,
     "metadata": {},
     "output_type": "execute_result"
    }
   ],
   "source": [
    "multiprocessing.cpu_count()\n",
    "#En esta máquina se estan utilizando 4 cores"
   ]
  },
  {
   "cell_type": "code",
   "execution_count": 25,
   "metadata": {},
   "outputs": [],
   "source": [
    "err_np=[]\n",
    "n_cpus=[]"
   ]
  },
  {
   "cell_type": "code",
   "execution_count": 26,
   "metadata": {},
   "outputs": [],
   "source": [
    "def Scf_parallel(mi_id,f,a,b,h_hat,n,ns_p):\n",
    "    \"\"\"\n",
    "    Compute numerical approximation using Simpson rule in an interval\n",
    "    Nodes are generated via formula: x_i = a+i/2*h_hat for i=0,1,...,2n and h_hat=(b-a)/n\n",
    "    n must be an even number\n",
    "    Args:\n",
    "        mi_id (in): id of subprocess: 0,1,2,...\n",
    "    \"\"\"\n",
    "    begin = (mi_id*ns_p)+1\n",
    "    print(\"id\")\n",
    "    print(mi_id)\n",
    "    print(\"begin\")\n",
    "    print(begin)\n",
    "    end = begin-1+ns_p\n",
    "    print(\"end\")\n",
    "    #print(end)\n",
    "    sum1=0\n",
    "    #next for loop considers sum that is multiplied by 4 in the expression\n",
    "    for i in range(begin,end+1,2):\n",
    "        x = a+i/2*h_hat\n",
    "        sum1+=f(x)\n",
    "    sum1=4*sum1\n",
    "    #print(sum1)\n",
    "    sum2=0\n",
    "    #next for loop considers sum that is multiplied by 2 in the expression\n",
    "    for i in range(begin+1,end+1,2):\n",
    "        x = a+i/2*h_hat\n",
    "        sum2+=f(x)\n",
    "    sum2=2*sum2\n",
    "    #print(sum2)\n",
    "    return sum1+sum2"
   ]
  },
  {
   "cell_type": "code",
   "execution_count": 27,
   "metadata": {},
   "outputs": [],
   "source": [
    "def mifun(cl,p,ns_p):\n",
    "    futures_Scf_parallel = cl.map(Scf_parallel,range(p),\n",
    "                                             **{'f':f,\n",
    "                                                'a':a,\n",
    "                                                'b':b,\n",
    "                                                'h_hat':h_hat,\n",
    "                                                'n':n,\n",
    "                                                'ns_p':ns_p}\n",
    "                              ) \n",
    "    results = cl.gather(futures_Scf_parallel)\n",
    "    aprox = h_hat*sum(results)\n",
    "    return err_relativo(aprox,obj)"
   ]
  },
  {
   "cell_type": "code",
   "execution_count": 28,
   "metadata": {},
   "outputs": [],
   "source": [
    "client.close()"
   ]
  },
  {
   "cell_type": "code",
   "execution_count": 29,
   "metadata": {},
   "outputs": [
    {
     "data": {
      "text/html": [
       "<table style=\"border: 2px solid white;\">\n",
       "<tr>\n",
       "<td style=\"vertical-align: top; border: 0px solid white\">\n",
       "<h3>Client</h3>\n",
       "<ul>\n",
       "  <li><b>Scheduler: </b>tcp://127.0.0.1:53417\n",
       "  <li><b>Dashboard: </b><a href='http://127.0.0.1:8787/status' target='_blank'>http://127.0.0.1:8787/status</a>\n",
       "</ul>\n",
       "</td>\n",
       "<td style=\"vertical-align: top; border: 0px solid white\">\n",
       "<h3>Cluster</h3>\n",
       "<ul>\n",
       "  <li><b>Workers: </b>0</li>\n",
       "  <li><b>Cores: </b>0</li>\n",
       "  <li><b>Memory: </b>0 B</li>\n",
       "</ul>\n",
       "</td>\n",
       "</tr>\n",
       "</table>"
      ],
      "text/plain": [
       "<Client: not connected>"
      ]
     },
     "execution_count": 29,
     "metadata": {},
     "output_type": "execute_result"
    }
   ],
   "source": [
    "client"
   ]
  },
  {
   "cell_type": "code",
   "execution_count": null,
   "metadata": {},
   "outputs": [],
   "source": [
    "for p in range(1,multiprocessing.cpu_count()+1):\n",
    "    if n%p==0:\n",
    "        ns_p=int(n/p)\n",
    "        client = Client(n_workers=p,\n",
    "                        threads_per_worker=1\n",
    "                       )\n",
    "        err_np.append(mifun(client,p,ns_p))\n",
    "        n_cpus.append(p)\n",
    "        client.close()"
   ]
  },
  {
   "cell_type": "code",
   "execution_count": 31,
   "metadata": {},
   "outputs": [
    {
     "data": {
      "text/plain": [
       "[2.7059405229112166, 2.705940522911138, 2.7059405229111144]"
      ]
     },
     "execution_count": 31,
     "metadata": {},
     "output_type": "execute_result"
    }
   ],
   "source": [
    "err_np"
   ]
  },
  {
   "cell_type": "code",
   "execution_count": 32,
   "metadata": {},
   "outputs": [
    {
     "data": {
      "text/plain": [
       "[1, 2, 4]"
      ]
     },
     "execution_count": 32,
     "metadata": {},
     "output_type": "execute_result"
    }
   ],
   "source": [
    "n_cpus"
   ]
  },
  {
   "cell_type": "code",
   "execution_count": 33,
   "metadata": {},
   "outputs": [],
   "source": [
    "l=[]\n",
    "n_cpus=[]"
   ]
  },
  {
   "cell_type": "code",
   "execution_count": 34,
   "metadata": {},
   "outputs": [],
   "source": [
    "client.close()"
   ]
  },
  {
   "cell_type": "code",
   "execution_count": 35,
   "metadata": {},
   "outputs": [
    {
     "data": {
      "text/html": [
       "<table style=\"border: 2px solid white;\">\n",
       "<tr>\n",
       "<td style=\"vertical-align: top; border: 0px solid white\">\n",
       "<h3>Client</h3>\n",
       "<ul>\n",
       "  <li><b>Scheduler: </b>tcp://127.0.0.1:65051\n",
       "  <li><b>Dashboard: </b><a href='http://127.0.0.1:8787/status' target='_blank'>http://127.0.0.1:8787/status</a>\n",
       "</ul>\n",
       "</td>\n",
       "<td style=\"vertical-align: top; border: 0px solid white\">\n",
       "<h3>Cluster</h3>\n",
       "<ul>\n",
       "  <li><b>Workers: </b>4</li>\n",
       "  <li><b>Cores: </b>4</li>\n",
       "  <li><b>Memory: </b>4.29 GB</li>\n",
       "</ul>\n",
       "</td>\n",
       "</tr>\n",
       "</table>"
      ],
      "text/plain": [
       "<Client: not connected>"
      ]
     },
     "execution_count": 35,
     "metadata": {},
     "output_type": "execute_result"
    }
   ],
   "source": [
    "client"
   ]
  },
  {
   "cell_type": "code",
   "execution_count": 36,
   "metadata": {},
   "outputs": [
    {
     "name": "stdout",
     "output_type": "stream",
     "text": [
      "2.68 s ± 0 ns per loop (mean ± std. dev. of 1 run, 1 loop each)\n",
      "1.42 s ± 0 ns per loop (mean ± std. dev. of 1 run, 1 loop each)\n",
      "1.51 s ± 0 ns per loop (mean ± std. dev. of 1 run, 1 loop each)\n"
     ]
    }
   ],
   "source": [
    "for p in range(1,multiprocessing.cpu_count()+1):\n",
    "    if n%p==0:\n",
    "        ns_p=int(n/p)\n",
    "        client = Client(n_workers=p,\n",
    "                threads_per_worker=1\n",
    "               )\n",
    "        futures_Scf_parallel = client.map(Scf_parallel,range(p),\n",
    "                                          **{'f':f,\n",
    "                                             'a':a,\n",
    "                                             'b':b,\n",
    "                                             'h_hat':h_hat,\n",
    "                                             'n':n,\n",
    "                                             'ns_p':ns_p}\n",
    "                                         )\n",
    "        resultado_timeit=%timeit -n 1 -r 1 -o client.gather(futures_Scf_parallel)\n",
    "        l.append(resultado_timeit.average)\n",
    "        n_cpus.append(p)\n",
    "        client.close()"
   ]
  },
  {
   "cell_type": "code",
   "execution_count": 37,
   "metadata": {},
   "outputs": [
    {
     "data": {
      "text/plain": [
       "[2.6832750309999938, 1.4211168770000313, 1.5092063219999545]"
      ]
     },
     "execution_count": 37,
     "metadata": {},
     "output_type": "execute_result"
    }
   ],
   "source": [
    "l"
   ]
  },
  {
   "cell_type": "code",
   "execution_count": 38,
   "metadata": {},
   "outputs": [
    {
     "data": {
      "text/plain": [
       "[1, 2, 4]"
      ]
     },
     "execution_count": 38,
     "metadata": {},
     "output_type": "execute_result"
    }
   ],
   "source": [
    "n_cpus"
   ]
  },
  {
   "cell_type": "code",
   "execution_count": 39,
   "metadata": {},
   "outputs": [],
   "source": [
    "import matplotlib.pyplot as plt"
   ]
  },
  {
   "cell_type": "code",
   "execution_count": 40,
   "metadata": {},
   "outputs": [
    {
     "data": {
      "image/png": "[encoded data removed]",
      "text/plain": [
       "<Figure size 432x288 with 1 Axes>"
      ]
     },
     "metadata": {
      "needs_background": "light"
     },
     "output_type": "display_data"
    }
   ],
   "source": [
    "plt.plot(n_cpus,l,'o-')\n",
    "plt.title('Gráfica num cpus vs tiempo')\n",
    "plt.xlabel('num cpus')\n",
    "plt.ylabel('tiempo')\n",
    "plt.grid()\n",
    "plt.show()"
   ]
  }
 ],
 "metadata": {
  "kernelspec": {
   "display_name": "Python 3",
   "language": "python",
   "name": "python3"
  },
  "language_info": {
   "codemirror_mode": {
    "name": "ipython",
    "version": 3
   },
   "file_extension": ".py",
   "mimetype": "text/x-python",
   "name": "python",
   "nbconvert_exporter": "python",
   "pygments_lexer": "ipython3",
   "version": "3.7.3"
  }
 },
 "nbformat": 4,
 "nbformat_minor": 4
}
